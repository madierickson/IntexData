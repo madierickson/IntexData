{
 "cells": [
  {
   "cell_type": "markdown",
   "id": "b028d21e",
   "metadata": {},
   "source": [
    "# Requirement #2\n",
    "## DATA IMPORT"
   ]
  },
  {
   "cell_type": "code",
   "execution_count": 2,
   "id": "81a271a4",
   "metadata": {},
   "outputs": [],
   "source": [
    "import pandas as pd\n",
    "\n",
    "# Load the data\n",
    "df_ratings = pd.read_csv('movies_ratings.csv')\n",
    "df_movies = pd.read_csv('movies_titles.csv')\n",
    "df_users = pd.read_csv('movies_users.csv')  # Optional for later\n",
    "\n"
   ]
  },
  {
   "cell_type": "markdown",
   "id": "06bcb094",
   "metadata": {},
   "source": [
    "## DATA UNDERSTANDING"
   ]
  },
  {
   "cell_type": "code",
   "execution_count": 3,
   "id": "c4d66e07",
   "metadata": {},
   "outputs": [
    {
     "name": "stdout",
     "output_type": "stream",
     "text": [
      "(2147, 3)\n",
      "(8508, 42)\n"
     ]
    },
    {
     "data": {
      "text/html": [
       "<div>\n",
       "<style scoped>\n",
       "    .dataframe tbody tr th:only-of-type {\n",
       "        vertical-align: middle;\n",
       "    }\n",
       "\n",
       "    .dataframe tbody tr th {\n",
       "        vertical-align: top;\n",
       "    }\n",
       "\n",
       "    .dataframe thead th {\n",
       "        text-align: right;\n",
       "    }\n",
       "</style>\n",
       "<table border=\"1\" class=\"dataframe\">\n",
       "  <thead>\n",
       "    <tr style=\"text-align: right;\">\n",
       "      <th></th>\n",
       "      <th>user_id</th>\n",
       "      <th>show_id</th>\n",
       "      <th>rating</th>\n",
       "    </tr>\n",
       "  </thead>\n",
       "  <tbody>\n",
       "    <tr>\n",
       "      <th>0</th>\n",
       "      <td>1</td>\n",
       "      <td>s8381</td>\n",
       "      <td>4</td>\n",
       "    </tr>\n",
       "    <tr>\n",
       "      <th>1</th>\n",
       "      <td>1</td>\n",
       "      <td>s3466</td>\n",
       "      <td>5</td>\n",
       "    </tr>\n",
       "    <tr>\n",
       "      <th>2</th>\n",
       "      <td>1</td>\n",
       "      <td>s3181</td>\n",
       "      <td>4</td>\n",
       "    </tr>\n",
       "    <tr>\n",
       "      <th>3</th>\n",
       "      <td>1</td>\n",
       "      <td>s294</td>\n",
       "      <td>3</td>\n",
       "    </tr>\n",
       "    <tr>\n",
       "      <th>4</th>\n",
       "      <td>1</td>\n",
       "      <td>s7739</td>\n",
       "      <td>5</td>\n",
       "    </tr>\n",
       "  </tbody>\n",
       "</table>\n",
       "</div>"
      ],
      "text/plain": [
       "   user_id show_id  rating\n",
       "0        1   s8381       4\n",
       "1        1   s3466       5\n",
       "2        1   s3181       4\n",
       "3        1    s294       3\n",
       "4        1   s7739       5"
      ]
     },
     "execution_count": 3,
     "metadata": {},
     "output_type": "execute_result"
    }
   ],
   "source": [
    "# Quick preview\n",
    "print(df_ratings.shape)\n",
    "print(df_movies.shape)\n",
    "df_ratings.head()\n"
   ]
  },
  {
   "cell_type": "markdown",
   "id": "43bdc774",
   "metadata": {},
   "source": [
    "## DATA PREPARATION"
   ]
  },
  {
   "cell_type": "code",
   "execution_count": 6,
   "id": "714c77d2",
   "metadata": {},
   "outputs": [],
   "source": [
    "# Count ratings per show\n",
    "counts = df_ratings['show_id'].value_counts()\n",
    "keep_shows = counts[counts >= 1].index\n",
    "\n",
    "# Filter ratings to keep only those shows\n",
    "df_ratings = df_ratings[df_ratings['show_id'].isin(keep_shows)].copy()\n",
    "\n",
    "# Drop duplicates (if any)\n",
    "df_ratings.drop_duplicates(subset=['user_id', 'show_id'], keep='first', inplace=True)\n"
   ]
  },
  {
   "cell_type": "markdown",
   "id": "e4eff6d2",
   "metadata": {},
   "source": [
    "## MODELING\n"
   ]
  },
  {
   "cell_type": "code",
   "execution_count": 7,
   "id": "e8fd6dba",
   "metadata": {},
   "outputs": [],
   "source": [
    "import numpy as np\n",
    "from scipy.sparse import csr_matrix\n",
    "\n",
    "def create_matrix(df, user, item, rating):\n",
    "    U = df[user].nunique()\n",
    "    I = df[item].nunique()\n",
    "\n",
    "    user_mapper = dict(zip(np.unique(df[user]), list(range(U))))\n",
    "    item_mapper = dict(zip(np.unique(df[item]), list(range(I))))\n",
    "\n",
    "    user_inv_mapper = dict(zip(list(range(U)), np.unique(df[user])))\n",
    "    item_inv_mapper = dict(zip(list(range(I)), np.unique(df[item])))\n",
    "\n",
    "    user_index = [user_mapper[i] for i in df[user]]\n",
    "    item_index = [item_mapper[i] for i in df[item]]\n",
    "\n",
    "    X = csr_matrix((df[rating], (item_index, user_index)), shape=(I, U))\n",
    "\n",
    "    return X, user_mapper, item_mapper, user_inv_mapper, item_inv_mapper\n"
   ]
  },
  {
   "cell_type": "code",
   "execution_count": 8,
   "id": "dd94e776",
   "metadata": {},
   "outputs": [],
   "source": [
    "X, user_mapper, item_mapper, user_inv_mapper, item_inv_mapper = create_matrix(\n",
    "    df_ratings, user='user_id', item='show_id', rating='rating'\n",
    ")\n"
   ]
  },
  {
   "cell_type": "code",
   "execution_count": 9,
   "id": "81d190c6",
   "metadata": {},
   "outputs": [],
   "source": [
    "from sklearn.neighbors import NearestNeighbors\n",
    "\n",
    "def recommend(itemId, X, item_mapper, item_inv_mapper, k, metric='cosine', messages=True):\n",
    "    rec_ids = []\n",
    "    item = item_mapper[itemId]\n",
    "    item_vector = X[item]\n",
    "\n",
    "    knn = NearestNeighbors(n_neighbors=k+1, algorithm=\"brute\", metric=metric).fit(X)\n",
    "    rec = knn.kneighbors(item_vector.reshape(1, -1), return_distance=True)\n",
    "\n",
    "    rec_indices = rec[1][0]\n",
    "    rec_distances = rec[0][0]\n",
    "    rec_distances = np.delete(rec_distances, 0)  # remove the item itself\n",
    "\n",
    "    for i in range(1, knn.n_neighbors):\n",
    "        rec_ids.append(item_inv_mapper[rec_indices[i]])\n",
    "\n",
    "    if messages:\n",
    "        print(f\"Recommended item indices:\\n{rec_indices}\")\n",
    "        print(f\"Recommended show_ids:\\n{rec_ids}\")\n",
    "        print(f\"Distances:\\n{rec_distances}\")\n",
    "\n",
    "    return rec_ids, rec_distances\n"
   ]
  },
  {
   "cell_type": "code",
   "execution_count": 14,
   "id": "64489a36",
   "metadata": {},
   "outputs": [],
   "source": [
    "import random\n",
    "\n",
    "def genre_home_screen(user_id, df_ratings, df_movies, X, item_mapper, item_inv_mapper, \n",
    "                      genres=['Action', 'Comedies', 'Documentaries'], top_n=50):\n",
    "    # 1. Get the user's ratings\n",
    "    df_user = df_ratings[df_ratings['user_id'] == user_id]\n",
    "    if df_user.empty:\n",
    "        print(\"⚠️ This user has no ratings!\")\n",
    "        return None, {}\n",
    "\n",
    "    # 2. Find top-rated show(s)\n",
    "    max_rating = df_user['rating'].max()\n",
    "    top_rated_shows = df_user[df_user['rating'] == max_rating]['show_id'].tolist()\n",
    "\n",
    "    # 3. Pick a seed show randomly\n",
    "    seed_show_id = random.choice(top_rated_shows)\n",
    "\n",
    "    # 4. Get collaborative recommendations\n",
    "    rec_ids, _ = recommend(seed_show_id, X, item_mapper, item_inv_mapper, k=top_n)\n",
    "\n",
    "    # 5. Filter out shows the user has already rated\n",
    "    rec_ids = [sid for sid in rec_ids if sid not in df_user['show_id'].values]\n",
    "\n",
    "    # 6. Get DataFrame of recommended shows\n",
    "    rec_df = df_movies[df_movies['show_id'].isin(rec_ids)]\n",
    "\n",
    "    # 7. Group recommendations by genre\n",
    "    genre_sections = {}\n",
    "    for genre in genres:\n",
    "        if genre in rec_df.columns:\n",
    "            genre_recs = rec_df[rec_df[genre] == 1][['title', 'description']].head(5)\n",
    "            if not genre_recs.empty:\n",
    "                genre_sections[genre] = genre_recs.reset_index(drop=True)\n",
    "\n",
    "    # 8. Get the name of the seed show for labeling\n",
    "    seed_title = df_movies[df_movies['show_id'] == seed_show_id]['title'].values[0]\n",
    "\n",
    "    return seed_title, genre_sections\n"
   ]
  },
  {
   "cell_type": "code",
   "execution_count": 15,
   "id": "a4167945",
   "metadata": {},
   "outputs": [
    {
     "ename": "ValueError",
     "evalue": "Expected n_neighbors <= n_samples_fit, but n_neighbors = 51, n_samples_fit = 6, n_samples = 1",
     "output_type": "error",
     "traceback": [
      "\u001b[0;31m---------------------------------------------------------------------------\u001b[0m",
      "\u001b[0;31mValueError\u001b[0m                                Traceback (most recent call last)",
      "Cell \u001b[0;32mIn[15], line 3\u001b[0m\n\u001b[1;32m      1\u001b[0m user_id \u001b[38;5;241m=\u001b[39m df_ratings[\u001b[38;5;124m'\u001b[39m\u001b[38;5;124muser_id\u001b[39m\u001b[38;5;124m'\u001b[39m]\u001b[38;5;241m.\u001b[39msample(\u001b[38;5;241m1\u001b[39m)\u001b[38;5;241m.\u001b[39miloc[\u001b[38;5;241m0\u001b[39m]  \u001b[38;5;66;03m# pick one randomly\u001b[39;00m\n\u001b[0;32m----> 3\u001b[0m seed_title, genre_lists \u001b[38;5;241m=\u001b[39m \u001b[43mgenre_home_screen\u001b[49m\u001b[43m(\u001b[49m\n\u001b[1;32m      4\u001b[0m \u001b[43m    \u001b[49m\u001b[43muser_id\u001b[49m\u001b[43m,\u001b[49m\u001b[43m \u001b[49m\u001b[43mdf_ratings\u001b[49m\u001b[43m,\u001b[49m\u001b[43m \u001b[49m\u001b[43mdf_movies\u001b[49m\u001b[43m,\u001b[49m\u001b[43m \u001b[49m\u001b[43mX\u001b[49m\u001b[43m,\u001b[49m\u001b[43m \u001b[49m\u001b[43mitem_mapper\u001b[49m\u001b[43m,\u001b[49m\u001b[43m \u001b[49m\u001b[43mitem_inv_mapper\u001b[49m\u001b[43m,\u001b[49m\n\u001b[1;32m      5\u001b[0m \u001b[43m    \u001b[49m\u001b[43mgenres\u001b[49m\u001b[38;5;241;43m=\u001b[39;49m\u001b[43m[\u001b[49m\u001b[38;5;124;43m'\u001b[39;49m\u001b[38;5;124;43mAction\u001b[39;49m\u001b[38;5;124;43m'\u001b[39;49m\u001b[43m,\u001b[49m\u001b[43m \u001b[49m\u001b[38;5;124;43m'\u001b[39;49m\u001b[38;5;124;43mComedies\u001b[39;49m\u001b[38;5;124;43m'\u001b[39;49m\u001b[43m,\u001b[49m\u001b[43m \u001b[49m\u001b[38;5;124;43m'\u001b[39;49m\u001b[38;5;124;43mDocumentaries\u001b[39;49m\u001b[38;5;124;43m'\u001b[39;49m\u001b[43m,\u001b[49m\u001b[43m \u001b[49m\u001b[38;5;124;43m'\u001b[39;49m\u001b[38;5;124;43mChildren\u001b[39;49m\u001b[38;5;124;43m'\u001b[39;49m\u001b[43m,\u001b[49m\u001b[43m \u001b[49m\u001b[38;5;124;43m'\u001b[39;49m\u001b[38;5;124;43mDramas\u001b[39;49m\u001b[38;5;124;43m'\u001b[39;49m\u001b[43m]\u001b[49m\n\u001b[1;32m      6\u001b[0m \u001b[43m)\u001b[49m\n\u001b[1;32m      8\u001b[0m \u001b[38;5;66;03m# Display it!\u001b[39;00m\n\u001b[1;32m      9\u001b[0m \u001b[38;5;28mprint\u001b[39m(\u001b[38;5;124mf\u001b[39m\u001b[38;5;124m\"\u001b[39m\u001b[38;5;130;01m\\n\u001b[39;00m\u001b[38;5;124m🎬 Because you liked **\u001b[39m\u001b[38;5;132;01m{\u001b[39;00mseed_title\u001b[38;5;132;01m}\u001b[39;00m\u001b[38;5;124m**, here are some picks:\u001b[39m\u001b[38;5;124m\"\u001b[39m)\n",
      "Cell \u001b[0;32mIn[14], line 19\u001b[0m, in \u001b[0;36mgenre_home_screen\u001b[0;34m(user_id, df_ratings, df_movies, X, item_mapper, item_inv_mapper, genres, top_n)\u001b[0m\n\u001b[1;32m     16\u001b[0m seed_show_id \u001b[38;5;241m=\u001b[39m random\u001b[38;5;241m.\u001b[39mchoice(top_rated_shows)\n\u001b[1;32m     18\u001b[0m \u001b[38;5;66;03m# 4. Get collaborative recommendations\u001b[39;00m\n\u001b[0;32m---> 19\u001b[0m rec_ids, _ \u001b[38;5;241m=\u001b[39m \u001b[43mrecommend\u001b[49m\u001b[43m(\u001b[49m\u001b[43mseed_show_id\u001b[49m\u001b[43m,\u001b[49m\u001b[43m \u001b[49m\u001b[43mX\u001b[49m\u001b[43m,\u001b[49m\u001b[43m \u001b[49m\u001b[43mitem_mapper\u001b[49m\u001b[43m,\u001b[49m\u001b[43m \u001b[49m\u001b[43mitem_inv_mapper\u001b[49m\u001b[43m,\u001b[49m\u001b[43m \u001b[49m\u001b[43mk\u001b[49m\u001b[38;5;241;43m=\u001b[39;49m\u001b[43mtop_n\u001b[49m\u001b[43m)\u001b[49m\n\u001b[1;32m     21\u001b[0m \u001b[38;5;66;03m# 5. Filter out shows the user has already rated\u001b[39;00m\n\u001b[1;32m     22\u001b[0m rec_ids \u001b[38;5;241m=\u001b[39m [sid \u001b[38;5;28;01mfor\u001b[39;00m sid \u001b[38;5;129;01min\u001b[39;00m rec_ids \u001b[38;5;28;01mif\u001b[39;00m sid \u001b[38;5;129;01mnot\u001b[39;00m \u001b[38;5;129;01min\u001b[39;00m df_user[\u001b[38;5;124m'\u001b[39m\u001b[38;5;124mshow_id\u001b[39m\u001b[38;5;124m'\u001b[39m]\u001b[38;5;241m.\u001b[39mvalues]\n",
      "Cell \u001b[0;32mIn[9], line 9\u001b[0m, in \u001b[0;36mrecommend\u001b[0;34m(itemId, X, item_mapper, item_inv_mapper, k, metric, messages)\u001b[0m\n\u001b[1;32m      6\u001b[0m item_vector \u001b[38;5;241m=\u001b[39m X[item]\n\u001b[1;32m      8\u001b[0m knn \u001b[38;5;241m=\u001b[39m NearestNeighbors(n_neighbors\u001b[38;5;241m=\u001b[39mk\u001b[38;5;241m+\u001b[39m\u001b[38;5;241m1\u001b[39m, algorithm\u001b[38;5;241m=\u001b[39m\u001b[38;5;124m\"\u001b[39m\u001b[38;5;124mbrute\u001b[39m\u001b[38;5;124m\"\u001b[39m, metric\u001b[38;5;241m=\u001b[39mmetric)\u001b[38;5;241m.\u001b[39mfit(X)\n\u001b[0;32m----> 9\u001b[0m rec \u001b[38;5;241m=\u001b[39m \u001b[43mknn\u001b[49m\u001b[38;5;241;43m.\u001b[39;49m\u001b[43mkneighbors\u001b[49m\u001b[43m(\u001b[49m\u001b[43mitem_vector\u001b[49m\u001b[38;5;241;43m.\u001b[39;49m\u001b[43mreshape\u001b[49m\u001b[43m(\u001b[49m\u001b[38;5;241;43m1\u001b[39;49m\u001b[43m,\u001b[49m\u001b[43m \u001b[49m\u001b[38;5;241;43m-\u001b[39;49m\u001b[38;5;241;43m1\u001b[39;49m\u001b[43m)\u001b[49m\u001b[43m,\u001b[49m\u001b[43m \u001b[49m\u001b[43mreturn_distance\u001b[49m\u001b[38;5;241;43m=\u001b[39;49m\u001b[38;5;28;43;01mTrue\u001b[39;49;00m\u001b[43m)\u001b[49m\n\u001b[1;32m     11\u001b[0m rec_indices \u001b[38;5;241m=\u001b[39m rec[\u001b[38;5;241m1\u001b[39m][\u001b[38;5;241m0\u001b[39m]\n\u001b[1;32m     12\u001b[0m rec_distances \u001b[38;5;241m=\u001b[39m rec[\u001b[38;5;241m0\u001b[39m][\u001b[38;5;241m0\u001b[39m]\n",
      "File \u001b[0;32m/Library/Frameworks/Python.framework/Versions/3.12/lib/python3.12/site-packages/sklearn/neighbors/_base.py:854\u001b[0m, in \u001b[0;36mKNeighborsMixin.kneighbors\u001b[0;34m(self, X, n_neighbors, return_distance)\u001b[0m\n\u001b[1;32m    852\u001b[0m     \u001b[38;5;28;01melse\u001b[39;00m:\n\u001b[1;32m    853\u001b[0m         inequality_str \u001b[38;5;241m=\u001b[39m \u001b[38;5;124m\"\u001b[39m\u001b[38;5;124mn_neighbors <= n_samples_fit\u001b[39m\u001b[38;5;124m\"\u001b[39m\n\u001b[0;32m--> 854\u001b[0m     \u001b[38;5;28;01mraise\u001b[39;00m \u001b[38;5;167;01mValueError\u001b[39;00m(\n\u001b[1;32m    855\u001b[0m         \u001b[38;5;124mf\u001b[39m\u001b[38;5;124m\"\u001b[39m\u001b[38;5;124mExpected \u001b[39m\u001b[38;5;132;01m{\u001b[39;00minequality_str\u001b[38;5;132;01m}\u001b[39;00m\u001b[38;5;124m, but \u001b[39m\u001b[38;5;124m\"\u001b[39m\n\u001b[1;32m    856\u001b[0m         \u001b[38;5;124mf\u001b[39m\u001b[38;5;124m\"\u001b[39m\u001b[38;5;124mn_neighbors = \u001b[39m\u001b[38;5;132;01m{\u001b[39;00mn_neighbors\u001b[38;5;132;01m}\u001b[39;00m\u001b[38;5;124m, n_samples_fit = \u001b[39m\u001b[38;5;132;01m{\u001b[39;00mn_samples_fit\u001b[38;5;132;01m}\u001b[39;00m\u001b[38;5;124m, \u001b[39m\u001b[38;5;124m\"\u001b[39m\n\u001b[1;32m    857\u001b[0m         \u001b[38;5;124mf\u001b[39m\u001b[38;5;124m\"\u001b[39m\u001b[38;5;124mn_samples = \u001b[39m\u001b[38;5;132;01m{\u001b[39;00mX\u001b[38;5;241m.\u001b[39mshape[\u001b[38;5;241m0\u001b[39m]\u001b[38;5;132;01m}\u001b[39;00m\u001b[38;5;124m\"\u001b[39m  \u001b[38;5;66;03m# include n_samples for common tests\u001b[39;00m\n\u001b[1;32m    858\u001b[0m     )\n\u001b[1;32m    860\u001b[0m n_jobs \u001b[38;5;241m=\u001b[39m effective_n_jobs(\u001b[38;5;28mself\u001b[39m\u001b[38;5;241m.\u001b[39mn_jobs)\n\u001b[1;32m    861\u001b[0m chunked_results \u001b[38;5;241m=\u001b[39m \u001b[38;5;28;01mNone\u001b[39;00m\n",
      "\u001b[0;31mValueError\u001b[0m: Expected n_neighbors <= n_samples_fit, but n_neighbors = 51, n_samples_fit = 6, n_samples = 1"
     ]
    }
   ],
   "source": [
    "user_id = df_ratings['user_id'].sample(1).iloc[0]  # pick one randomly\n",
    "\n",
    "seed_title, genre_lists = genre_home_screen(\n",
    "    user_id, df_ratings, df_movies, X, item_mapper, item_inv_mapper,\n",
    "    genres=['Action', 'Comedies', 'Documentaries', 'Children', 'Dramas']\n",
    ")\n",
    "\n",
    "# Display it!\n",
    "print(f\"\\n🎬 Because you liked **{seed_title}**, here are some picks:\")\n",
    "\n",
    "for genre, recs in genre_lists.items():\n",
    "    print(f\"\\n🎞️ {genre} Recommendations:\")\n",
    "    display(recs)\n"
   ]
  }
 ],
 "metadata": {
  "kernelspec": {
   "display_name": "Python 3",
   "language": "python",
   "name": "python3"
  },
  "language_info": {
   "codemirror_mode": {
    "name": "ipython",
    "version": 3
   },
   "file_extension": ".py",
   "mimetype": "text/x-python",
   "name": "python",
   "nbconvert_exporter": "python",
   "pygments_lexer": "ipython3",
   "version": "3.12.1"
  }
 },
 "nbformat": 4,
 "nbformat_minor": 5
}
